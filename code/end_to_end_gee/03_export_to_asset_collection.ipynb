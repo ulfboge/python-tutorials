{
  "cells": [
    {
      "cell_type": "markdown",
      "metadata": {
        "id": "cUfEWS_3PWZr"
      },
      "source": [
        "One of the most commonly asked questions by Earth Engine users is - *How do I download all images in a collection*? The Earth Engine Python API comes with a `ee.batch` module that allows you to launch batch exports and manage tasks. The recommended way to do batch exports like this is to use the Python API's `ee.batch.Export` functions and use a Python for-loop to iterate and export each image. The `ee.batch` module also gives you ability to control *Tasks* - allowing you to automate exports.\n",
        "\n",
        "> You can also export images in a collection using Javascript API in the Code Editor but this requires you to manually start the tasks for each image. This approach is fine for small number of images. You can check out the [recommended script](https://code.earthengine.google.co.in/?scriptPath=users%2Fujavalgandhi%2FEnd-to-End-GEE%3ASupplement%2FImage_Collections%2FExporting_ImageCollections)."
      ]
    },
    {
      "cell_type": "code",
      "execution_count": 1,
      "metadata": {
        "id": "JuN5rEoyjmjK"
      },
      "outputs": [],
      "source": [
        "import ee"
      ]
    },
    {
      "cell_type": "code",
      "execution_count": 2,
      "metadata": {
        "id": "Sz-01eMjg72f",
        "outputId": "df648408-1e0a-431f-97b0-10c1a617b8e3",
        "colab": {
          "base_uri": "https://localhost:8080/"
        }
      },
      "outputs": [
        {
          "output_type": "stream",
          "name": "stdout",
          "text": [
            "To authorize access needed by Earth Engine, open the following URL in a web browser and follow the instructions. If the web browser does not start automatically, please manually browse the URL below.\n",
            "\n",
            "    https://code.earthengine.google.com/client-auth?scopes=https%3A//www.googleapis.com/auth/earthengine%20https%3A//www.googleapis.com/auth/devstorage.full_control&request_id=wWj4fowOVe8U7oGgE_ww8JgqQVhyUDYBtbyzG2NrsYs&tc=FTqEHsIT3TNQ73YIqUjSjZykNanXf_BjyTs28JJ-Gg8&cc=Mx0IVRkcVEA7QZ9SwJtqaNDcXq5o4OO5Z7c1WQ-1bUo\n",
            "\n",
            "The authorization workflow will generate a code, which you should paste in the box below.\n",
            "Enter verification code: 4/1Adeu5BVWUKgCrFs48ntwpBIz6y2r8KzQVB5RGZhOrGP0E0armCl-QcYqJVU\n",
            "\n",
            "Successfully saved authorization token.\n"
          ]
        }
      ],
      "source": [
        "ee.Authenticate()"
      ]
    },
    {
      "cell_type": "code",
      "execution_count": 3,
      "metadata": {
        "id": "UPsm1_Qxg72j"
      },
      "outputs": [],
      "source": [
        "ee.Initialize()"
      ]
    },
    {
      "cell_type": "markdown",
      "metadata": {
        "id": "mW0ljMgeg72n"
      },
      "source": [
        "#### Create a Collection"
      ]
    },
    {
      "cell_type": "code",
      "execution_count": 5,
      "metadata": {
        "id": "S60c2-FOjx0h"
      },
      "outputs": [],
      "source": [
        "# geoBoundries Admin Boundaries\n",
        "admin1 = ee.FeatureCollection(\"projects/sat-io/open-datasets/geoboundaries/CGAZ_ADM0\")\n",
        "\n",
        "# Select an Admin1 Region\n",
        "region = 'Angola'\n",
        "admin1Filtered = admin1.filter(ee.Filter.eq('shapeName', region))\n",
        "geometry = admin1Filtered.geometry()\n",
        "\n",
        "image = ee.Image('projects/treebeing/assets/treecover2010_00N_010E')\n",
        "image1 = ee.Image('projects/treebeing/assets/treecover2010_00N_020E')\n",
        "image2 = ee.Image('projects/treebeing/assets/treecover2010_10S_010E')\n",
        "image3 = ee.Image('projects/treebeing/assets/treecover2010_10S_020E')\n",
        "# Add tree cover for 2010\n",
        "exportCol = ee.ImageCollection.fromImages([image, image1, image2, image3])"
      ]
    },
    {
      "cell_type": "markdown",
      "metadata": {
        "id": "s-zNDMS9g72r"
      },
      "source": [
        "#### Export All Images\n",
        "\n",
        "Exports are done via the ``ee.batch`` module. This module allows you to automatically start an export - making it suitable for batch exports."
      ]
    },
    {
      "cell_type": "code",
      "execution_count": 6,
      "metadata": {
        "id": "STvfd9ABg72s",
        "outputId": "7b03cc51-45c9-45d8-9541-3c35bede5852",
        "colab": {
          "base_uri": "https://localhost:8080/"
        }
      },
      "outputs": [
        {
          "output_type": "stream",
          "name": "stdout",
          "text": [
            "Total images:  4\n"
          ]
        }
      ],
      "source": [
        "image_ids = exportCol.aggregate_array('system:index').getInfo()\n",
        "print('Total images: ', len(image_ids))"
      ]
    },
    {
      "cell_type": "code",
      "execution_count": 9,
      "metadata": {
        "id": "CoXn1_hgoj81",
        "outputId": "ddbadc82-8adc-4769-ad4a-2de0a0a85509",
        "colab": {
          "base_uri": "https://localhost:8080/"
        }
      },
      "outputs": [
        {
          "output_type": "stream",
          "name": "stdout",
          "text": [
            "Started Task:  4\n"
          ]
        }
      ],
      "source": [
        "# Export with 30m resolution for this demo\n",
        "for i, image_id in enumerate(image_ids):\n",
        "  image = ee.Image(exportCol.filter(ee.Filter.eq('system:index', image_id)).first())\n",
        "task = ee.batch.Export.image.toAsset(**{\n",
        "  'image': image,\n",
        "  'description': 'Image Export {}'.format(i+1),\n",
        "  'assetId': 'projects/treebeing/assets/tc2010',\n",
        "  'region': geometry,\n",
        "  'scale': 30,\n",
        "  'maxPixels': 1e13})\n",
        "task.start()\n",
        "print('Started Task: ', i+1)"
      ]
    },
    {
      "cell_type": "markdown",
      "metadata": {
        "id": "J8BtAZftg720"
      },
      "source": [
        "#### Manage Running/Waiting Tasks\n",
        "\n",
        "You can manage tasks as well. Get a list of tasks and get state information on them"
      ]
    },
    {
      "cell_type": "code",
      "execution_count": null,
      "metadata": {
        "id": "AhNgXPb1XGBX"
      },
      "outputs": [],
      "source": [
        "tasks = ee.batch.Task.list()\n",
        "for task in tasks:\n",
        "  task_id = task.status()['id']\n",
        "  task_state = task.status()['state']\n",
        "  print(task_id, task_state)"
      ]
    },
    {
      "cell_type": "markdown",
      "metadata": {
        "id": "Y4kf_z5Wg723"
      },
      "source": [
        "You can cancel tasks as well"
      ]
    },
    {
      "cell_type": "code",
      "execution_count": null,
      "metadata": {
        "id": "-u2_GpPog724"
      },
      "outputs": [],
      "source": [
        "tasks = ee.batch.Task.list()\n",
        "for task in tasks:\n",
        "    task_id = task.status()['id']\n",
        "    task_state = task.status()['state']\n",
        "    if task_state == 'RUNNING' or task_state == 'READY':\n",
        "        task.cancel()\n",
        "        print('Task {} canceled'.format(task_id))\n",
        "    else:\n",
        "        print('Task {} state is {}'.format(task_id, task_state))"
      ]
    },
    {
      "cell_type": "markdown",
      "metadata": {
        "id": "nujfioGtPWZ2"
      },
      "source": [
        "### Exercise\n",
        "\n",
        "The code below uses the TerraClimate data and creates an ImageCollection with 12 monthly images of maximum temperature. It also extract the geometry for Australia from the LSIB collection. Add the code to start an export task for each image in the collection for australia.\n",
        "\n",
        "- **Hint1**: TerraClimate images have a scale of 4638.3m\n",
        "- **Hint2**: You need to export the image contained in the clippedImage variable"
      ]
    },
    {
      "cell_type": "code",
      "execution_count": null,
      "metadata": {
        "id": "27Bwko2sPWZ2"
      },
      "outputs": [],
      "source": [
        "import ee\n",
        "\n",
        "lsib = ee.FeatureCollection('USDOS/LSIB_SIMPLE/2017')\n",
        "australia = lsib.filter(ee.Filter.eq('country_na', 'Australia'))\n",
        "geometry = australia.geometry()\n",
        "\n",
        "terraclimate = ee.ImageCollection('IDAHO_EPSCOR/TERRACLIMATE')\n",
        "tmax = terraclimate.select('tmmx')\n",
        "\n",
        "def scale(image):\n",
        "  return image.multiply(0.1) \\\n",
        "    .copyProperties(image,['system:time_start'])\n",
        "\n",
        "tmaxScaled = tmax.map(scale)\n",
        "\n",
        "filtered = tmaxScaled \\\n",
        "  .filter(ee.Filter.date('2020-01-01', '2021-01-01')) \\\n",
        "  .filter(ee.Filter.bounds(geometry))\n",
        "\n",
        "image_ids = filtered.aggregate_array('system:index').getInfo()\n",
        "print('Total images: ', len(image_ids))"
      ]
    },
    {
      "cell_type": "markdown",
      "metadata": {
        "id": "fwp4iHF6PWZ2"
      },
      "source": [
        "Replace the comments with your code."
      ]
    },
    {
      "cell_type": "code",
      "execution_count": null,
      "metadata": {
        "id": "mbR6LaBDPWZ2"
      },
      "outputs": [],
      "source": [
        "for i, image_id in enumerate(image_ids):\n",
        "    exportImage = ee.Image(filtered.filter(ee.Filter.eq('system:index', image_id)).first())\n",
        "    # Clip the image to the region geometry\n",
        "    clippedImage = exportImage.clip(geometry)\n",
        "\n",
        "    ## Create the export task using ee.batch.Export.image.toDrive()\n",
        "\n",
        "    ## Start the task"
      ]
    }
  ],
  "metadata": {
    "colab": {
      "name": "03_export_a_collection.ipynb",
      "provenance": [],
      "toc_visible": true
    },
    "kernelspec": {
      "display_name": "Python 3 (ipykernel)",
      "language": "python",
      "name": "python3"
    },
    "language_info": {
      "codemirror_mode": {
        "name": "ipython",
        "version": 3
      },
      "file_extension": ".py",
      "mimetype": "text/x-python",
      "name": "python",
      "nbconvert_exporter": "python",
      "pygments_lexer": "ipython3",
      "version": "3.8.13"
    }
  },
  "nbformat": 4,
  "nbformat_minor": 0
}